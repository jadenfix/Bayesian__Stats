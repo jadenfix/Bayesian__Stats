{
 "cells": [
  {
   "cell_type": "markdown",
   "id": "8817177e",
   "metadata": {},
   "source": [
    "# GSB 544 – Homework #2 Solutions\n",
    "*Spring 2025*\n",
    "\n",
    "**Authors:** (Jaden Fix and Matteo Shafer)\n",
    "Used Chat GPT and only talked among each other before submitting it, nobody else \n",
    "---"
   ]
  },
  {
   "cell_type": "markdown",
   "id": "67d08b45",
   "metadata": {},
   "source": [
    "## Problem 1 – Monte Carlo study of $p$‑values\n",
    "\n",
    "We simulate $50\\,000$ advertising plans.  For each plan\n",
    "\n",
    "* With prior probability $0.5$ the plan has **no effect** ($\\theta=0$).\n",
    "* Otherwise $\\theta\\sim\\text{Uniform}(0,1)$.\n",
    "* We observe an estimate $\\hat x\\sim\\mathcal N(\\theta,\\;0.25)$ ($\\sigma=0.5$).\n",
    "* We compute the one‑sided _z_‑statistic $z=\\hat x/0.5$ and the right‑tail $p$‑value $p=1-\\Phi(z)$.\n",
    "\n",
    "A common significance band is $p\\in[0.03,0.05]$.  We examine how often results in this band truly correspond to an effective plan."
   ]
  },
  {
   "cell_type": "code",
   "execution_count": 8,
   "id": "6067e86c",
   "metadata": {},
   "outputs": [],
   "source": [
    "\n",
    "import numpy as np\n",
    "from scipy.stats import norm\n",
    "import matplotlib.pyplot as plt\n",
    "\n",
    "np.random.seed(42)\n",
    "N = 50_000\n",
    "sigma = 0.5\n",
    "\n",
    "# Draw θ\n",
    "is_null = np.random.rand(N) < 0.5          # True if θ = 0\n",
    "theta = np.where(is_null, 0.0, np.random.rand(N))\n",
    "\n",
    "# Draw x̂ and compute z, p\n",
    "x_hat = np.random.normal(theta, sigma)\n",
    "z      = x_hat / sigma\n",
    "p_vals = 1 - norm.cdf(z)\n"
   ]
  },
  {
   "cell_type": "markdown",
   "id": "9b8613cc",
   "metadata": {},
   "source": [
    "### 1 a) $p$‑values are Uniform$(0,1)$ under $H_0$\n",
    "Below is a histogram of the $p$‑values **only** for those trials where the null hypothesis ($\\theta=0$) is true.  The flat shape confirms the Uniform$(0,1)$ distribution predicted by theory."
   ]
  },
  {
   "cell_type": "code",
   "execution_count": 9,
   "id": "19300774",
   "metadata": {},
   "outputs": [
    {
     "data": {
      "image/png": "[encoded data removed]",
      "text/plain": [
       "<Figure size 600x400 with 1 Axes>"
      ]
     },
     "metadata": {},
     "output_type": "display_data"
    }
   ],
   "source": [
    "\n",
    "# mask for true null\n",
    "p_null = p_vals[is_null]\n",
    "\n",
    "plt.figure(figsize=(6,4))\n",
    "plt.hist(p_null, bins=20, density=True, edgecolor='black')\n",
    "plt.xlabel(\"p‑value\")\n",
    "plt.ylabel(\"Density\")\n",
    "plt.title(\"Histogram of p‑values under $H_0$ (θ = 0)\")\n",
    "plt.show()\n"
   ]
  },
  {
   "cell_type": "markdown",
   "id": "0f20f8d3",
   "metadata": {},
   "source": [
    "### 1 b) What does a $p$‑value in $[0.03,0.05]$ really tell us?"
   ]
  },
  {
   "cell_type": "code",
   "execution_count": 10,
   "id": "c7f7b995",
   "metadata": {},
   "outputs": [
    {
     "name": "stdout",
     "output_type": "stream",
     "text": [
      "Trials with p in [0.03,0.05]: 2093\n",
      "  • Effective plan (H1): 1616  (77.2%)\n",
      "  • No‑effect plan (H0): 477  (22.8%)\n",
      "Posterior odds   H1 : H0  =  3.39 : 1\n"
     ]
    }
   ],
   "source": [
    "\n",
    "band = (p_vals >= 0.03) & (p_vals <= 0.05)\n",
    "n_band = band.sum()\n",
    "n_alt  = (~is_null & band).sum()\n",
    "n_null = (is_null & band).sum()\n",
    "\n",
    "pct_alt  = 100 * n_alt / n_band\n",
    "pct_null = 100 * n_null / n_band\n",
    "post_odds = n_alt / n_null\n",
    "\n",
    "print(f\"Trials with p in [0.03,0.05]: {n_band}\")\n",
    "print(f\"  • Effective plan (H1): {n_alt}  ({pct_alt:.1f}%)\")\n",
    "print(f\"  • No‑effect plan (H0): {n_null}  ({pct_null:.1f}%)\")\n",
    "print(f\"Posterior odds   H1 : H0  =  {post_odds:.2f} : 1\")\n"
   ]
  },
  {
   "cell_type": "markdown",
   "id": "b1ca4ab6",
   "metadata": {},
   "source": [
    "**Interpretation.**  Roughly one quarter of the advertising plans that generate a $p$‑value between 3 % and 5 % are, in fact, **ineffective**.  The evidence against $H_0$ is therefore much weaker than the raw $p$‑value might suggest."
   ]
  },
  {
   "cell_type": "markdown",
   "id": "d9cebb9a",
   "metadata": {},
   "source": [
    "## Problem 2 – Replicability of “borderline‑significant” findings\n",
    "We run **two** independent A/B tests on the _same_ advertising plan (hence the same $\\theta$) and ask:\n",
    "\n",
    "> Given that the first test produced a one‑sided $p$‑value in $[0.03,0.05]$, what is the probability that the second test will land in the same band?\n"
   ]
  },
  {
   "cell_type": "code",
   "execution_count": 4,
   "id": "532a93fa",
   "metadata": {},
   "outputs": [
    {
     "name": "stdout",
     "output_type": "stream",
     "text": [
      "Estimated replication probability: 6.11%\n"
     ]
    }
   ],
   "source": [
    "\n",
    "np.random.seed(1)\n",
    "M = 200_000\n",
    "\n",
    "is_null2 = np.random.rand(M) < 0.5\n",
    "theta2   = np.where(is_null2, 0.0, np.random.rand(M))\n",
    "\n",
    "x1 = np.random.normal(theta2, sigma)\n",
    "x2 = np.random.normal(theta2, sigma)\n",
    "\n",
    "p1 = 1 - norm.cdf(x1 / sigma)\n",
    "p2 = 1 - norm.cdf(x2 / sigma)\n",
    "\n",
    "band1 = (p1 >= 0.03) & (p1 <= 0.05)\n",
    "rep_band = band1 & (p2 >= 0.03) & (p2 <= 0.05)\n",
    "\n",
    "prob_rep = rep_band.sum() / band1.sum()\n",
    "print(f\"Estimated replication probability: {prob_rep*100:.2f}%\")\n"
   ]
  },
  {
   "cell_type": "markdown",
   "id": "03b05717",
   "metadata": {},
   "source": [
    "**Interpretation.**  Only about **6 %** of borderline‑significant findings ($p\\in[0.03,0.05]$) would be expected to hit the same band in an immediate replication under ideal conditions.  Such results are therefore highly fragile and should not be relied upon without further evidence."
   ]
  },
  {
   "cell_type": "markdown",
   "id": "c510bd71",
   "metadata": {},
   "source": [
    "## Problem 3 – Andrés’ Brownie Stand\n",
    "Andrés can bake brownies on Wednesday for sale on Thursday.  Each brownie _costs_ \\$2 to make and _sells_ for \\$3.  Demand $D$ is\n",
    "\n",
    "* 150 with probability 0.5\n",
    "* 50  with probability 0.5\n",
    "\n",
    "Let $Q$ be the number baked.  Profit for a given demand is\n",
    "$$\\pi(Q,D)=3\\,\\min(Q,D)-2Q.$$\n",
    "We solve each part analytically and confirm numerically."
   ]
  },
  {
   "cell_type": "markdown",
   "id": "dfd0b0b5",
   "metadata": {},
   "source": [
    "### 3 a) Expected demand"
   ]
  },
  {
   "cell_type": "code",
   "execution_count": 5,
   "id": "d7c5899b",
   "metadata": {},
   "outputs": [
    {
     "name": "stdout",
     "output_type": "stream",
     "text": [
      "Expected demand = 100.0 brownies\n"
     ]
    }
   ],
   "source": [
    "\n",
    "E_D = 0.5*150 + 0.5*50\n",
    "print(f\"Expected demand = {E_D} brownies\")\n"
   ]
  },
  {
   "cell_type": "markdown",
   "id": "79540459",
   "metadata": {},
   "source": [
    "So Andrés can _expect_ to sell 100 brownies, on average."
   ]
  },
  {
   "cell_type": "markdown",
   "id": "146765fd",
   "metadata": {},
   "source": [
    "### 3 b) Optimal production quantity $Q^{*}$ and intuitive explanation\n",
    "We evaluate expected profit for all integer $Q$ from 0 to 200."
   ]
  },
  {
   "cell_type": "code",
   "execution_count": 6,
   "id": "69afab8a",
   "metadata": {},
   "outputs": [
    {
     "name": "stdout",
     "output_type": "stream",
     "text": [
      "Optimal Q* = 50 brownies\n",
      "Maximum expected profit = $50.00\n"
     ]
    }
   ],
   "source": [
    "\n",
    "def expected_profit(Q):\n",
    "    # D=150 or 50\n",
    "    profit_high = 3*min(Q,150) - 2*Q\n",
    "    profit_low  = 3*min(Q,50)  - 2*Q\n",
    "    return 0.5*profit_high + 0.5*profit_low\n",
    "\n",
    "Q_vals = np.arange(0, 201)\n",
    "profits = np.array([expected_profit(q) for q in Q_vals])\n",
    "Q_star = Q_vals[np.argmax(profits)]\n",
    "pi_star = profits.max()\n",
    "\n",
    "print(f\"Optimal Q* = {Q_star} brownies\")\n",
    "print(f\"Maximum expected profit = ${pi_star:.2f}\")\n"
   ]
  },
  {
   "cell_type": "markdown",
   "id": "411d81b1",
   "metadata": {},
   "source": [
    "**Plain‑English rationale.**  If Andrés bakes **≤ 50** brownies he will **always sell out** and earn \\$1 of profit per brownie.  Baking the 51st brownie risks an unsold item whenever demand turns out to be only 50, which happens half the time.  From that point on the _expected_ gain of an extra brownie is only 50 ¢ (the 1 \\$ margin in the high‑demand state times 0.5) but the certain **cost** is 2 \\$, so expected profit shrinks.  Hence the sweet spot is exactly **50 brownies**."
   ]
  },
  {
   "cell_type": "markdown",
   "id": "0a1be700",
   "metadata": {},
   "source": [
    "### 3 c) Distribution of profits at the optimum"
   ]
  },
  {
   "cell_type": "code",
   "execution_count": 7,
   "id": "ea8b65d0",
   "metadata": {},
   "outputs": [
    {
     "name": "stdout",
     "output_type": "stream",
     "text": [
      "Profit if demand = 50 : $50.00\n",
      "Profit if demand = 150: $50.00\n",
      "Probability profit < $100: 100%\n"
     ]
    }
   ],
   "source": [
    "\n",
    "# Profit outcomes at optimal Q*\n",
    "profit_low  = 3*min(Q_star,50) - 2*Q_star\n",
    "profit_high = 3*min(Q_star,150) - 2*Q_star\n",
    "\n",
    "print(f\"Profit if demand = 50 : ${profit_low:.2f}\")\n",
    "print(f\"Profit if demand = 150: ${profit_high:.2f}\")\n",
    "\n",
    "prob_less_100 = 1.0  # both outcomes give $50<100\n",
    "print(f\"Probability profit < $100: {prob_less_100*100:.0f}%\")\n"
   ]
  },
  {
   "cell_type": "markdown",
   "id": "5a521bfa",
   "metadata": {},
   "source": [
    "At the optimum Andrés always earns \\$50—comfortably below \\$100—so the probability of making less than \\$100 is **100 %**."
   ]
  }
 ],
 "metadata": {
  "kernelspec": {
   "display_name": "ECON_544_S24",
   "language": "python",
   "name": "python3"
  },
  "language_info": {
   "codemirror_mode": {
    "name": "ipython",
    "version": 3
   },
   "file_extension": ".py",
   "mimetype": "text/x-python",
   "name": "python",
   "nbconvert_exporter": "python",
   "pygments_lexer": "ipython3",
   "version": "3.12.2"
  }
 },
 "nbformat": 4,
 "nbformat_minor": 5
}
